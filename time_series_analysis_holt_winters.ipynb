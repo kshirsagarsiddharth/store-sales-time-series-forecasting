{
 "cells": [
  {
   "cell_type": "code",
   "execution_count": 37,
   "id": "a5e73fa9",
   "metadata": {},
   "outputs": [],
   "source": [
    "# BASE\n",
    "# ------------------------------------------------------\n",
    "import numpy as np\n",
    "import pandas as pd\n",
    "import os\n",
    "import gc\n",
    "import warnings\n",
    "from tqdm.auto import tqdm \n",
    "\n",
    "# PACF - ACF\n",
    "# ------------------------------------------------------\n",
    "import statsmodels.api as sm\n",
    "from statsmodels.tsa.holtwinters import ExponentialSmoothing, SimpleExpSmoothing \n",
    "from sklearn.metrics import root_mean_squared_error, mean_absolute_percentage_error, root_mean_squared_log_error\n",
    "from statsmodels.graphics.tsaplots import month_plot, quarter_plot, plot_acf, plot_pacf\n",
    "# DATA VISUALIZATION\n",
    "# ------------------------------------------------------\n",
    "import matplotlib.pyplot as plt\n",
    "import seaborn as sns\n",
    "import plotly.express as px\n",
    "import plotly.graph_objects as go \n",
    "\n",
    "from sklearn.model_selection import ParameterGrid \n",
    "# CONFIGURATIONS\n",
    "# ------------------------------------------------------\n",
    "pd.set_option('display.max_columns', None)\n",
    "pd.options.display.float_format = '{:.2f}'.format\n",
    "warnings.filterwarnings('ignore')\n",
    "# Custom Code \n",
    "#---------------------------------------\n",
    "from utils import plot_forecasts, plot_acf_plotly\n",
    "from joblib import Parallel, delayed"
   ]
  },
  {
   "cell_type": "code",
   "execution_count": 38,
   "id": "251ba61b",
   "metadata": {},
   "outputs": [],
   "source": [
    "df = pd.read_parquet('train.parquet')\n",
    "# Forecast next 13 days \n",
    "periods = 13 \n",
    "#df['sales'] = df['sales'] + 1 "
   ]
  },
  {
   "cell_type": "code",
   "execution_count": 39,
   "id": "91a07249",
   "metadata": {},
   "outputs": [],
   "source": [
    "x = df[[\"store_nbr\", \"family\"]].drop_duplicates().sample(1)\n",
    "store = x[\"store_nbr\"].iloc[0]\n",
    "\n",
    "family = x[\"family\"].iloc[0]\n",
    "\n",
    "temp = df[(df[\"store_nbr\"] == store) & (df[\"family\"] == family)]\n",
    "# px.line(temp, x = 'date', y = 'sales', title=f\"{family} - {store}\")"
   ]
  },
  {
   "cell_type": "code",
   "execution_count": 40,
   "id": "77bc408c",
   "metadata": {},
   "outputs": [],
   "source": [
    "# Forecast next 13 days \n",
    "periods = 13 \n",
    "\n",
    "temp = temp.set_index('date').sort_index()"
   ]
  },
  {
   "cell_type": "code",
   "execution_count": 41,
   "id": "8b0e6cf5",
   "metadata": {},
   "outputs": [],
   "source": [
    "# plot_acf_plotly(temp['sales'], nlags=100)"
   ]
  },
  {
   "cell_type": "code",
   "execution_count": null,
   "id": "d0f61bad",
   "metadata": {},
   "outputs": [],
   "source": []
  },
  {
   "cell_type": "code",
   "execution_count": 42,
   "id": "e1477477",
   "metadata": {},
   "outputs": [],
   "source": [
    "train, test = temp[['sales']].iloc[:-periods],  temp[['sales']].iloc[-periods:]"
   ]
  },
  {
   "cell_type": "code",
   "execution_count": 43,
   "id": "2d97a708",
   "metadata": {},
   "outputs": [],
   "source": [
    "model_holt = ExponentialSmoothing(endog=train['sales'], trend='add', seasonal='add', seasonal_periods=365).fit()\n",
    "holt_pred = model_holt.forecast(periods)"
   ]
  },
  {
   "cell_type": "code",
   "execution_count": 44,
   "id": "a1c7fd13",
   "metadata": {},
   "outputs": [
    {
     "data": {
      "text/plain": [
       "(0.3255328544474165, 267.67082931873574)"
      ]
     },
     "execution_count": 44,
     "metadata": {},
     "output_type": "execute_result"
    }
   ],
   "source": [
    "rmsle_value = root_mean_squared_log_error(test[\"sales\"].values, holt_pred.values)\n",
    "rmse = root_mean_squared_error(test[\"sales\"].values , holt_pred.values)\n",
    "\n",
    "\n",
    "rmsle_value,rmse "
   ]
  },
  {
   "cell_type": "code",
   "execution_count": 45,
   "id": "91b1b886",
   "metadata": {},
   "outputs": [],
   "source": [
    "# plot_forecasts(temp, holt_pred, test)"
   ]
  },
  {
   "cell_type": "code",
   "execution_count": 46,
   "id": "fe0ad20f",
   "metadata": {},
   "outputs": [],
   "source": [
    "def fit_model(param_dict: list, df: pd.DataFrame,store_nbr: str, family: str) -> list:\n",
    "\n",
    "    train, test = df[[\"sales\"]].iloc[:-periods], df[[\"sales\"]].iloc[-periods:]\n",
    "\n",
    "    combinations = []\n",
    "\n",
    "    for param_dict in param_dict:\n",
    "        try:\n",
    "            seasonal, seasonal_periods, trend = (\n",
    "                param_dict[\"seasonal\"],\n",
    "                param_dict[\"seasonal_periods\"],\n",
    "                param_dict[\"trend\"],\n",
    "            )\n",
    "\n",
    "            if trend != \"mul\" and seasonal != \"mul\":\n",
    "                model_holt = ExponentialSmoothing(\n",
    "                    endog=train[\"sales\"],\n",
    "                    trend=trend,\n",
    "                    seasonal=seasonal,\n",
    "                    seasonal_periods=seasonal_periods,\n",
    "                ).fit()\n",
    "                holt_pred = model_holt.forecast(periods)\n",
    "\n",
    "                holt_pred = model_holt.forecast(periods).values\n",
    "                holt_pred = np.maximum(holt_pred, 0)\n",
    "                actual = test[\"sales\"].values\n",
    "\n",
    "            else:\n",
    "                model_holt = ExponentialSmoothing(\n",
    "                    endog=train[\"sales\"] + 1,\n",
    "                    trend=trend,\n",
    "                    seasonal=seasonal,\n",
    "                    seasonal_periods=seasonal_periods,\n",
    "                ).fit()\n",
    "                holt_pred = model_holt.forecast(periods).values\n",
    "                holt_pred = np.maximum(holt_pred, 0)\n",
    "                actual = test[\"sales\"].values + 1\n",
    "        \n",
    "\n",
    "\n",
    "        \n",
    "            rmsle = root_mean_squared_log_error(actual, holt_pred)\n",
    "            rmse = root_mean_squared_error(actual, holt_pred)\n",
    "            mape = mean_absolute_percentage_error(actual, holt_pred)\n",
    "\n",
    "            combinations.append(\n",
    "                {\n",
    "                    \"seasonal\": seasonal,\n",
    "                    \"seasonal_periods\": seasonal_periods,\n",
    "                    \"trend\": trend,\n",
    "                    \"rmse\": rmse,\n",
    "                    \"mape\": mape,\n",
    "                    \"rmsle\": rmsle,\n",
    "                    'store_nbr': store_nbr, \n",
    "                    'family': family \n",
    "                }\n",
    "            )\n",
    "\n",
    "\n",
    "        except ValueError:\n",
    "            combinations.append(\n",
    "                {\n",
    "                    \"seasonal\": seasonal,\n",
    "                    \"seasonal_periods\": seasonal_periods,\n",
    "                    \"trend\": trend,\n",
    "                    \"rmse\": None,\n",
    "                    \"mape\": None,\n",
    "                    \"rmsle\": None,\n",
    "                    'store_nbr': store_nbr, \n",
    "                    'family': family \n",
    "                }\n",
    "            )\n",
    "            \n",
    "\n",
    "    return combinations\n",
    "\n",
    "\n",
    "params = {\n",
    "    \"trend\": [\"mul\", \"add\"],\n",
    "    \"seasonal\": [\"mul\", \"add\"],\n",
    "    \"seasonal_periods\": [7, 30, 365],\n",
    "}\n",
    "\n",
    "params_grid = list(ParameterGrid(params))"
   ]
  },
  {
   "cell_type": "code",
   "execution_count": 49,
   "id": "4350b6c4",
   "metadata": {},
   "outputs": [],
   "source": [
    "def process_combination(store_nbr, family, param_grid): \n",
    "    store_combinations_df = df[(df[\"store_nbr\"] == store_nbr) & (df[\"family\"] == family)].dropna()\n",
    "    store_combinations_df.set_index('date', inplace = True)\n",
    "    \n",
    "    \n",
    "    combinations = fit_model(param_grid, store_combinations_df,store_nbr, family)\n",
    "\n",
    "    return combinations \n"
   ]
  },
  {
   "cell_type": "code",
   "execution_count": null,
   "id": "1e762273",
   "metadata": {},
   "outputs": [
    {
     "data": {
      "application/vnd.jupyter.widget-view+json": {
       "model_id": "18c9571f59aa4321816c9bc1d9c80745",
       "version_major": 2,
       "version_minor": 0
      },
      "text/plain": [
       "  0%|          | 0/1782 [00:00<?, ?it/s]"
      ]
     },
     "metadata": {},
     "output_type": "display_data"
    },
    {
     "name": "stderr",
     "output_type": "stream",
     "text": [
      "[Parallel(n_jobs=6)]: Using backend ThreadingBackend with 6 concurrent workers.\n",
      "[Parallel(n_jobs=6)]: Done   1 tasks      | elapsed:    4.0s\n",
      "[Parallel(n_jobs=6)]: Done   6 tasks      | elapsed:    8.0s\n",
      "[Parallel(n_jobs=6)]: Done  13 tasks      | elapsed:   13.8s\n",
      "[Parallel(n_jobs=6)]: Done  20 tasks      | elapsed:   24.4s\n",
      "[Parallel(n_jobs=6)]: Done  29 tasks      | elapsed:   32.0s\n",
      "[Parallel(n_jobs=6)]: Done  38 tasks      | elapsed:   40.4s\n",
      "[Parallel(n_jobs=6)]: Done  49 tasks      | elapsed:   52.9s\n",
      "[Parallel(n_jobs=6)]: Done  60 tasks      | elapsed:  1.1min\n",
      "[Parallel(n_jobs=6)]: Done  73 tasks      | elapsed:  1.3min\n",
      "[Parallel(n_jobs=6)]: Done  86 tasks      | elapsed:  1.5min\n",
      "[Parallel(n_jobs=6)]: Done 101 tasks      | elapsed:  1.8min\n",
      "[Parallel(n_jobs=6)]: Done 116 tasks      | elapsed:  2.0min\n",
      "[Parallel(n_jobs=6)]: Done 133 tasks      | elapsed:  2.3min\n",
      "[Parallel(n_jobs=6)]: Done 150 tasks      | elapsed:  2.6min\n",
      "[Parallel(n_jobs=6)]: Done 169 tasks      | elapsed:  2.9min\n",
      "[Parallel(n_jobs=6)]: Done 188 tasks      | elapsed:  3.3min\n",
      "[Parallel(n_jobs=6)]: Done 209 tasks      | elapsed:  3.6min\n",
      "[Parallel(n_jobs=6)]: Done 230 tasks      | elapsed:  4.0min\n",
      "[Parallel(n_jobs=6)]: Done 253 tasks      | elapsed:  4.4min\n",
      "[Parallel(n_jobs=6)]: Done 276 tasks      | elapsed:  4.8min\n",
      "[Parallel(n_jobs=6)]: Done 301 tasks      | elapsed:  5.2min\n",
      "[Parallel(n_jobs=6)]: Done 326 tasks      | elapsed:  5.6min\n",
      "[Parallel(n_jobs=6)]: Done 353 tasks      | elapsed:  6.1min\n",
      "[Parallel(n_jobs=6)]: Done 380 tasks      | elapsed:  6.6min\n",
      "[Parallel(n_jobs=6)]: Done 409 tasks      | elapsed:  7.1min\n",
      "[Parallel(n_jobs=6)]: Done 438 tasks      | elapsed:  7.4min\n",
      "[Parallel(n_jobs=6)]: Done 469 tasks      | elapsed:  7.8min\n",
      "[Parallel(n_jobs=6)]: Done 500 tasks      | elapsed:  8.2min\n",
      "[Parallel(n_jobs=6)]: Done 533 tasks      | elapsed:  8.8min\n",
      "[Parallel(n_jobs=6)]: Done 566 tasks      | elapsed:  9.3min\n",
      "[Parallel(n_jobs=6)]: Done 601 tasks      | elapsed:  9.9min\n",
      "[Parallel(n_jobs=6)]: Done 636 tasks      | elapsed: 10.4min\n",
      "[Parallel(n_jobs=6)]: Done 673 tasks      | elapsed: 11.0min\n",
      "[Parallel(n_jobs=6)]: Done 710 tasks      | elapsed: 11.6min\n",
      "[Parallel(n_jobs=6)]: Done 749 tasks      | elapsed: 12.2min\n",
      "[Parallel(n_jobs=6)]: Done 788 tasks      | elapsed: 12.8min\n",
      "[Parallel(n_jobs=6)]: Done 829 tasks      | elapsed: 13.5min\n",
      "[Parallel(n_jobs=6)]: Done 870 tasks      | elapsed: 14.1min\n",
      "[Parallel(n_jobs=6)]: Done 913 tasks      | elapsed: 14.9min\n",
      "[Parallel(n_jobs=6)]: Done 956 tasks      | elapsed: 15.5min\n",
      "[Parallel(n_jobs=6)]: Done 1001 tasks      | elapsed: 16.2min\n",
      "[Parallel(n_jobs=6)]: Done 1046 tasks      | elapsed: 17.0min\n",
      "[Parallel(n_jobs=6)]: Done 1093 tasks      | elapsed: 27.0min\n",
      "[Parallel(n_jobs=6)]: Done 1140 tasks      | elapsed: 28.2min\n",
      "[Parallel(n_jobs=6)]: Done 1189 tasks      | elapsed: 29.4min\n",
      "[Parallel(n_jobs=6)]: Done 1238 tasks      | elapsed: 30.5min\n",
      "[Parallel(n_jobs=6)]: Done 1289 tasks      | elapsed: 31.7min\n",
      "[Parallel(n_jobs=6)]: Done 1340 tasks      | elapsed: 32.5min\n",
      "[Parallel(n_jobs=6)]: Done 1393 tasks      | elapsed: 33.4min\n",
      "[Parallel(n_jobs=6)]: Done 1446 tasks      | elapsed: 34.5min\n",
      "[Parallel(n_jobs=6)]: Done 1501 tasks      | elapsed: 35.9min\n",
      "[Parallel(n_jobs=6)]: Done 1556 tasks      | elapsed: 37.2min\n",
      "[Parallel(n_jobs=6)]: Done 1613 tasks      | elapsed: 38.0min\n",
      "[Parallel(n_jobs=6)]: Done 1670 tasks      | elapsed: 39.4min\n",
      "[Parallel(n_jobs=6)]: Done 1729 tasks      | elapsed: 41.0min\n"
     ]
    }
   ],
   "source": [
    "unique_combinations = df[[\"store_nbr\", \"family\"]].drop_duplicates()\n",
    "\n",
    "combinations_list = Parallel(n_jobs=6, verbose=10, backend='threading', batch_size='auto')(\n",
    "    delayed(process_combination)(row[\"store_nbr\"], row[\"family\"], params_grid)\n",
    "    for _, row in tqdm(unique_combinations.iterrows(), total=len(unique_combinations))\n",
    ")"
   ]
  },
  {
   "cell_type": "code",
   "execution_count": 51,
   "id": "fb345034",
   "metadata": {},
   "outputs": [],
   "source": [
    "combinations_list_ = [item for sublist in combinations_list for item in sublist]"
   ]
  },
  {
   "cell_type": "code",
   "execution_count": 52,
   "id": "18c2d760",
   "metadata": {},
   "outputs": [],
   "source": [
    "holt = pd.DataFrame(combinations_list_)"
   ]
  },
  {
   "cell_type": "code",
   "execution_count": 35,
   "id": "f2f553e5",
   "metadata": {},
   "outputs": [],
   "source": [
    "holt.to_parquet('holt.parquet')"
   ]
  },
  {
   "cell_type": "code",
   "execution_count": 23,
   "id": "5ca2418a",
   "metadata": {},
   "outputs": [],
   "source": [
    "holt = pd.read_parquet('metrics/holt.parquet')"
   ]
  },
  {
   "cell_type": "code",
   "execution_count": 24,
   "id": "8f0c769f",
   "metadata": {},
   "outputs": [],
   "source": [
    "holt = holt.dropna()"
   ]
  },
  {
   "cell_type": "code",
   "execution_count": 25,
   "id": "e4364f1a",
   "metadata": {},
   "outputs": [],
   "source": [
    "# holt.groupby(['seasonal','seasonal_periods','trend']).agg(\n",
    "#     mean_rmse = ('rmse','mean'), \n",
    "#     mean_rmsle = ('rmsle','mean'), \n",
    "#     mean_mape = ('mape','mean'), \n",
    "# ).reset_index()"
   ]
  },
  {
   "cell_type": "code",
   "execution_count": 26,
   "id": "191bcf8b",
   "metadata": {},
   "outputs": [],
   "source": [
    "import plotly.figure_factory as ff "
   ]
  },
  {
   "cell_type": "code",
   "execution_count": 27,
   "id": "12084bfd",
   "metadata": {},
   "outputs": [
    {
     "ename": "ValueError",
     "evalue": "array must not contain infs or NaNs",
     "output_type": "error",
     "traceback": [
      "\u001b[31m---------------------------------------------------------------------------\u001b[39m",
      "\u001b[31mValueError\u001b[39m                                Traceback (most recent call last)",
      "\u001b[36mCell\u001b[39m\u001b[36m \u001b[39m\u001b[32mIn[27]\u001b[39m\u001b[32m, line 1\u001b[39m\n\u001b[32m----> \u001b[39m\u001b[32m1\u001b[39m \u001b[43mff\u001b[49m\u001b[43m.\u001b[49m\u001b[43mcreate_distplot\u001b[49m\u001b[43m(\u001b[49m\u001b[43m[\u001b[49m\u001b[43mholt\u001b[49m\u001b[43m[\u001b[49m\u001b[33;43m'\u001b[39;49m\u001b[33;43mrmse\u001b[39;49m\u001b[33;43m'\u001b[39;49m\u001b[43m]\u001b[49m\u001b[43m]\u001b[49m\u001b[43m,\u001b[49m\u001b[43m \u001b[49m\u001b[43mgroup_labels\u001b[49m\u001b[43m=\u001b[49m\u001b[43m[\u001b[49m\u001b[33;43m'\u001b[39;49m\u001b[33;43mkde plot\u001b[39;49m\u001b[33;43m'\u001b[39;49m\u001b[43m]\u001b[49m\u001b[43m)\u001b[49m\n",
      "\u001b[36mFile \u001b[39m\u001b[32mc:\\Work\\MLOps\\flask_env\\Lib\\site-packages\\plotly\\figure_factory\\_distplot.py:226\u001b[39m, in \u001b[36mcreate_distplot\u001b[39m\u001b[34m(hist_data, group_labels, bin_size, curve_type, colors, rug_text, histnorm, show_hist, show_curve, show_rug)\u001b[39m\n\u001b[32m    204\u001b[39m         curve = _Distplot(\n\u001b[32m    205\u001b[39m             hist_data,\n\u001b[32m    206\u001b[39m             histnorm,\n\u001b[32m   (...)\u001b[39m\u001b[32m    213\u001b[39m             show_curve,\n\u001b[32m    214\u001b[39m         ).make_normal()\n\u001b[32m    215\u001b[39m     \u001b[38;5;28;01melse\u001b[39;00m:\n\u001b[32m    216\u001b[39m         curve = \u001b[43m_Distplot\u001b[49m\u001b[43m(\u001b[49m\n\u001b[32m    217\u001b[39m \u001b[43m            \u001b[49m\u001b[43mhist_data\u001b[49m\u001b[43m,\u001b[49m\n\u001b[32m    218\u001b[39m \u001b[43m            \u001b[49m\u001b[43mhistnorm\u001b[49m\u001b[43m,\u001b[49m\n\u001b[32m    219\u001b[39m \u001b[43m            \u001b[49m\u001b[43mgroup_labels\u001b[49m\u001b[43m,\u001b[49m\n\u001b[32m    220\u001b[39m \u001b[43m            \u001b[49m\u001b[43mbin_size\u001b[49m\u001b[43m,\u001b[49m\n\u001b[32m    221\u001b[39m \u001b[43m            \u001b[49m\u001b[43mcurve_type\u001b[49m\u001b[43m,\u001b[49m\n\u001b[32m    222\u001b[39m \u001b[43m            \u001b[49m\u001b[43mcolors\u001b[49m\u001b[43m,\u001b[49m\n\u001b[32m    223\u001b[39m \u001b[43m            \u001b[49m\u001b[43mrug_text\u001b[49m\u001b[43m,\u001b[49m\n\u001b[32m    224\u001b[39m \u001b[43m            \u001b[49m\u001b[43mshow_hist\u001b[49m\u001b[43m,\u001b[49m\n\u001b[32m    225\u001b[39m \u001b[43m            \u001b[49m\u001b[43mshow_curve\u001b[49m\u001b[43m,\u001b[49m\n\u001b[32m--> \u001b[39m\u001b[32m226\u001b[39m \u001b[43m        \u001b[49m\u001b[43m)\u001b[49m\u001b[43m.\u001b[49m\u001b[43mmake_kde\u001b[49m\u001b[43m(\u001b[49m\u001b[43m)\u001b[49m\n\u001b[32m    228\u001b[39m     data.append(curve)\n\u001b[32m    230\u001b[39m \u001b[38;5;28;01mif\u001b[39;00m show_rug:\n",
      "\u001b[36mFile \u001b[39m\u001b[32mc:\\Work\\MLOps\\flask_env\\Lib\\site-packages\\plotly\\figure_factory\\_distplot.py:361\u001b[39m, in \u001b[36m_Distplot.make_kde\u001b[39m\u001b[34m(self)\u001b[39m\n\u001b[32m    356\u001b[39m \u001b[38;5;28;01mfor\u001b[39;00m index \u001b[38;5;129;01min\u001b[39;00m \u001b[38;5;28mrange\u001b[39m(\u001b[38;5;28mself\u001b[39m.trace_number):\n\u001b[32m    357\u001b[39m     \u001b[38;5;28mself\u001b[39m.curve_x[index] = [\n\u001b[32m    358\u001b[39m         \u001b[38;5;28mself\u001b[39m.start[index] + x * (\u001b[38;5;28mself\u001b[39m.end[index] - \u001b[38;5;28mself\u001b[39m.start[index]) / \u001b[32m500\u001b[39m\n\u001b[32m    359\u001b[39m         \u001b[38;5;28;01mfor\u001b[39;00m x \u001b[38;5;129;01min\u001b[39;00m \u001b[38;5;28mrange\u001b[39m(\u001b[32m500\u001b[39m)\n\u001b[32m    360\u001b[39m     ]\n\u001b[32m--> \u001b[39m\u001b[32m361\u001b[39m     \u001b[38;5;28mself\u001b[39m.curve_y[index] = \u001b[43mscipy_stats\u001b[49m\u001b[43m.\u001b[49m\u001b[43mgaussian_kde\u001b[49m\u001b[43m(\u001b[49m\u001b[38;5;28;43mself\u001b[39;49m\u001b[43m.\u001b[49m\u001b[43mhist_data\u001b[49m\u001b[43m[\u001b[49m\u001b[43mindex\u001b[49m\u001b[43m]\u001b[49m\u001b[43m)\u001b[49m(\n\u001b[32m    362\u001b[39m         \u001b[38;5;28mself\u001b[39m.curve_x[index]\n\u001b[32m    363\u001b[39m     )\n\u001b[32m    365\u001b[39m     \u001b[38;5;28;01mif\u001b[39;00m \u001b[38;5;28mself\u001b[39m.histnorm == ALTERNATIVE_HISTNORM:\n\u001b[32m    366\u001b[39m         \u001b[38;5;28mself\u001b[39m.curve_y[index] *= \u001b[38;5;28mself\u001b[39m.bin_size[index]\n",
      "\u001b[36mFile \u001b[39m\u001b[32mc:\\Work\\MLOps\\flask_env\\Lib\\site-packages\\scipy\\stats\\_kde.py:226\u001b[39m, in \u001b[36mgaussian_kde.__init__\u001b[39m\u001b[34m(self, dataset, bw_method, weights)\u001b[39m\n\u001b[32m    223\u001b[39m     \u001b[38;5;28;01mraise\u001b[39;00m \u001b[38;5;167;01mValueError\u001b[39;00m(msg)\n\u001b[32m    225\u001b[39m \u001b[38;5;28;01mtry\u001b[39;00m:\n\u001b[32m--> \u001b[39m\u001b[32m226\u001b[39m     \u001b[38;5;28;43mself\u001b[39;49m\u001b[43m.\u001b[49m\u001b[43mset_bandwidth\u001b[49m\u001b[43m(\u001b[49m\u001b[43mbw_method\u001b[49m\u001b[43m=\u001b[49m\u001b[43mbw_method\u001b[49m\u001b[43m)\u001b[49m\n\u001b[32m    227\u001b[39m \u001b[38;5;28;01mexcept\u001b[39;00m linalg.LinAlgError \u001b[38;5;28;01mas\u001b[39;00m e:\n\u001b[32m    228\u001b[39m     msg = (\u001b[33m\"\u001b[39m\u001b[33mThe data appears to lie in a lower-dimensional subspace \u001b[39m\u001b[33m\"\u001b[39m\n\u001b[32m    229\u001b[39m            \u001b[33m\"\u001b[39m\u001b[33mof the space in which it is expressed. This has resulted \u001b[39m\u001b[33m\"\u001b[39m\n\u001b[32m    230\u001b[39m            \u001b[33m\"\u001b[39m\u001b[33min a singular data covariance matrix, which cannot be \u001b[39m\u001b[33m\"\u001b[39m\n\u001b[32m   (...)\u001b[39m\u001b[32m    233\u001b[39m            \u001b[33m\"\u001b[39m\u001b[33manalysis / dimensionality reduction and using \u001b[39m\u001b[33m\"\u001b[39m\n\u001b[32m    234\u001b[39m            \u001b[33m\"\u001b[39m\u001b[33m`gaussian_kde` with the transformed data.\u001b[39m\u001b[33m\"\u001b[39m)\n",
      "\u001b[36mFile \u001b[39m\u001b[32mc:\\Work\\MLOps\\flask_env\\Lib\\site-packages\\scipy\\stats\\_kde.py:574\u001b[39m, in \u001b[36mgaussian_kde.set_bandwidth\u001b[39m\u001b[34m(self, bw_method)\u001b[39m\n\u001b[32m    570\u001b[39m     msg = \u001b[33m\"\u001b[39m\u001b[33m`bw_method` should be \u001b[39m\u001b[33m'\u001b[39m\u001b[33mscott\u001b[39m\u001b[33m'\u001b[39m\u001b[33m, \u001b[39m\u001b[33m'\u001b[39m\u001b[33msilverman\u001b[39m\u001b[33m'\u001b[39m\u001b[33m, a scalar \u001b[39m\u001b[33m\"\u001b[39m \\\n\u001b[32m    571\u001b[39m           \u001b[33m\"\u001b[39m\u001b[33mor a callable.\u001b[39m\u001b[33m\"\u001b[39m\n\u001b[32m    572\u001b[39m     \u001b[38;5;28;01mraise\u001b[39;00m \u001b[38;5;167;01mValueError\u001b[39;00m(msg)\n\u001b[32m--> \u001b[39m\u001b[32m574\u001b[39m \u001b[38;5;28;43mself\u001b[39;49m\u001b[43m.\u001b[49m\u001b[43m_compute_covariance\u001b[49m\u001b[43m(\u001b[49m\u001b[43m)\u001b[49m\n",
      "\u001b[36mFile \u001b[39m\u001b[32mc:\\Work\\MLOps\\flask_env\\Lib\\site-packages\\scipy\\stats\\_kde.py:586\u001b[39m, in \u001b[36mgaussian_kde._compute_covariance\u001b[39m\u001b[34m(self)\u001b[39m\n\u001b[32m    582\u001b[39m \u001b[38;5;28;01mif\u001b[39;00m \u001b[38;5;129;01mnot\u001b[39;00m \u001b[38;5;28mhasattr\u001b[39m(\u001b[38;5;28mself\u001b[39m, \u001b[33m'\u001b[39m\u001b[33m_data_cho_cov\u001b[39m\u001b[33m'\u001b[39m):\n\u001b[32m    583\u001b[39m     \u001b[38;5;28mself\u001b[39m._data_covariance = atleast_2d(cov(\u001b[38;5;28mself\u001b[39m.dataset, rowvar=\u001b[32m1\u001b[39m,\n\u001b[32m    584\u001b[39m                                        bias=\u001b[38;5;28;01mFalse\u001b[39;00m,\n\u001b[32m    585\u001b[39m                                        aweights=\u001b[38;5;28mself\u001b[39m.weights))\n\u001b[32m--> \u001b[39m\u001b[32m586\u001b[39m     \u001b[38;5;28mself\u001b[39m._data_cho_cov = \u001b[43mlinalg\u001b[49m\u001b[43m.\u001b[49m\u001b[43mcholesky\u001b[49m\u001b[43m(\u001b[49m\u001b[38;5;28;43mself\u001b[39;49m\u001b[43m.\u001b[49m\u001b[43m_data_covariance\u001b[49m\u001b[43m,\u001b[49m\n\u001b[32m    587\u001b[39m \u001b[43m                                         \u001b[49m\u001b[43mlower\u001b[49m\u001b[43m=\u001b[49m\u001b[38;5;28;43;01mTrue\u001b[39;49;00m\u001b[43m)\u001b[49m\n\u001b[32m    589\u001b[39m \u001b[38;5;28mself\u001b[39m.covariance = \u001b[38;5;28mself\u001b[39m._data_covariance * \u001b[38;5;28mself\u001b[39m.factor**\u001b[32m2\u001b[39m\n\u001b[32m    590\u001b[39m \u001b[38;5;28mself\u001b[39m.cho_cov = (\u001b[38;5;28mself\u001b[39m._data_cho_cov * \u001b[38;5;28mself\u001b[39m.factor).astype(np.float64)\n",
      "\u001b[36mFile \u001b[39m\u001b[32mc:\\Work\\MLOps\\flask_env\\Lib\\site-packages\\scipy\\linalg\\_decomp_cholesky.py:101\u001b[39m, in \u001b[36mcholesky\u001b[39m\u001b[34m(a, lower, overwrite_a, check_finite)\u001b[39m\n\u001b[32m     46\u001b[39m \u001b[38;5;28;01mdef\u001b[39;00m\u001b[38;5;250m \u001b[39m\u001b[34mcholesky\u001b[39m(a, lower=\u001b[38;5;28;01mFalse\u001b[39;00m, overwrite_a=\u001b[38;5;28;01mFalse\u001b[39;00m, check_finite=\u001b[38;5;28;01mTrue\u001b[39;00m):\n\u001b[32m     47\u001b[39m \u001b[38;5;250m    \u001b[39m\u001b[33;03m\"\"\"\u001b[39;00m\n\u001b[32m     48\u001b[39m \u001b[33;03m    Compute the Cholesky decomposition of a matrix.\u001b[39;00m\n\u001b[32m     49\u001b[39m \n\u001b[32m   (...)\u001b[39m\u001b[32m     99\u001b[39m \n\u001b[32m    100\u001b[39m \u001b[33;03m    \"\"\"\u001b[39;00m\n\u001b[32m--> \u001b[39m\u001b[32m101\u001b[39m     c, lower = \u001b[43m_cholesky\u001b[49m\u001b[43m(\u001b[49m\u001b[43ma\u001b[49m\u001b[43m,\u001b[49m\u001b[43m \u001b[49m\u001b[43mlower\u001b[49m\u001b[43m=\u001b[49m\u001b[43mlower\u001b[49m\u001b[43m,\u001b[49m\u001b[43m \u001b[49m\u001b[43moverwrite_a\u001b[49m\u001b[43m=\u001b[49m\u001b[43moverwrite_a\u001b[49m\u001b[43m,\u001b[49m\u001b[43m \u001b[49m\u001b[43mclean\u001b[49m\u001b[43m=\u001b[49m\u001b[38;5;28;43;01mTrue\u001b[39;49;00m\u001b[43m,\u001b[49m\n\u001b[32m    102\u001b[39m \u001b[43m                         \u001b[49m\u001b[43mcheck_finite\u001b[49m\u001b[43m=\u001b[49m\u001b[43mcheck_finite\u001b[49m\u001b[43m)\u001b[49m\n\u001b[32m    103\u001b[39m     \u001b[38;5;28;01mreturn\u001b[39;00m c\n",
      "\u001b[36mFile \u001b[39m\u001b[32mc:\\Work\\MLOps\\flask_env\\Lib\\site-packages\\scipy\\linalg\\_decomp_cholesky.py:18\u001b[39m, in \u001b[36m_cholesky\u001b[39m\u001b[34m(a, lower, overwrite_a, clean, check_finite)\u001b[39m\n\u001b[32m     14\u001b[39m \u001b[38;5;28;01mdef\u001b[39;00m\u001b[38;5;250m \u001b[39m\u001b[34m_cholesky\u001b[39m(a, lower=\u001b[38;5;28;01mFalse\u001b[39;00m, overwrite_a=\u001b[38;5;28;01mFalse\u001b[39;00m, clean=\u001b[38;5;28;01mTrue\u001b[39;00m,\n\u001b[32m     15\u001b[39m               check_finite=\u001b[38;5;28;01mTrue\u001b[39;00m):\n\u001b[32m     16\u001b[39m \u001b[38;5;250m    \u001b[39m\u001b[33;03m\"\"\"Common code for cholesky() and cho_factor().\"\"\"\u001b[39;00m\n\u001b[32m---> \u001b[39m\u001b[32m18\u001b[39m     a1 = \u001b[43masarray_chkfinite\u001b[49m\u001b[43m(\u001b[49m\u001b[43ma\u001b[49m\u001b[43m)\u001b[49m \u001b[38;5;28;01mif\u001b[39;00m check_finite \u001b[38;5;28;01melse\u001b[39;00m asarray(a)\n\u001b[32m     19\u001b[39m     a1 = atleast_2d(a1)\n\u001b[32m     21\u001b[39m     \u001b[38;5;66;03m# Dimension check\u001b[39;00m\n",
      "\u001b[36mFile \u001b[39m\u001b[32mc:\\Work\\MLOps\\flask_env\\Lib\\site-packages\\numpy\\lib\\function_base.py:630\u001b[39m, in \u001b[36masarray_chkfinite\u001b[39m\u001b[34m(a, dtype, order)\u001b[39m\n\u001b[32m    628\u001b[39m a = asarray(a, dtype=dtype, order=order)\n\u001b[32m    629\u001b[39m \u001b[38;5;28;01mif\u001b[39;00m a.dtype.char \u001b[38;5;129;01min\u001b[39;00m typecodes[\u001b[33m'\u001b[39m\u001b[33mAllFloat\u001b[39m\u001b[33m'\u001b[39m] \u001b[38;5;129;01mand\u001b[39;00m \u001b[38;5;129;01mnot\u001b[39;00m np.isfinite(a).all():\n\u001b[32m--> \u001b[39m\u001b[32m630\u001b[39m     \u001b[38;5;28;01mraise\u001b[39;00m \u001b[38;5;167;01mValueError\u001b[39;00m(\n\u001b[32m    631\u001b[39m         \u001b[33m\"\u001b[39m\u001b[33marray must not contain infs or NaNs\u001b[39m\u001b[33m\"\u001b[39m)\n\u001b[32m    632\u001b[39m \u001b[38;5;28;01mreturn\u001b[39;00m a\n",
      "\u001b[31mValueError\u001b[39m: array must not contain infs or NaNs"
     ]
    }
   ],
   "source": [
    "ff.create_distplot([holt['rmse']], group_labels=['kde plot'])"
   ]
  },
  {
   "cell_type": "code",
   "execution_count": 33,
   "id": "3c701282",
   "metadata": {},
   "outputs": [
    {
     "data": {
      "application/vnd.microsoft.datawrangler.viewer.v0+json": {
       "columns": [
        {
         "name": "index",
         "rawType": "int64",
         "type": "integer"
        },
        {
         "name": "seasonal",
         "rawType": "object",
         "type": "string"
        },
        {
         "name": "seasonal_periods",
         "rawType": "int64",
         "type": "integer"
        },
        {
         "name": "trend",
         "rawType": "object",
         "type": "string"
        },
        {
         "name": "rmse",
         "rawType": "float64",
         "type": "float"
        },
        {
         "name": "mape",
         "rawType": "float64",
         "type": "float"
        },
        {
         "name": "rmsle",
         "rawType": "float64",
         "type": "float"
        }
       ],
       "ref": "cf145689-d1d7-4253-b025-b2e40214838d",
       "rows": [
        [
         "210",
         "add",
         "7",
         "mul",
         "inf",
         "9.701016398267378e+175",
         "297.2867259821465"
        ],
        [
         "5118",
         "add",
         "7",
         "mul",
         "inf",
         "9.32654972075578e+190",
         "423.7361632017475"
        ],
        [
         "8682",
         "add",
         "7",
         "mul",
         "inf",
         "5.49281736864726e+258",
         "573.8411259290144"
        ],
        [
         "11564",
         "add",
         "30",
         "mul",
         "inf",
         "1.4277416558117949e+167",
         "257.89482426912747"
        ],
        [
         "17756",
         "add",
         "30",
         "mul",
         "inf",
         "4.881995736284888e+161",
         "364.0248580513911"
        ],
        [
         "19374",
         "add",
         "7",
         "mul",
         "inf",
         "3.702373503405837e+285",
         "640.4400580766129"
        ],
        [
         "21320",
         "add",
         "30",
         "mul",
         "inf",
         "8.529014380720309e+219",
         "493.24729342964815"
        ]
       ],
       "shape": {
        "columns": 6,
        "rows": 7
       }
      },
      "text/html": [
       "<div>\n",
       "<style scoped>\n",
       "    .dataframe tbody tr th:only-of-type {\n",
       "        vertical-align: middle;\n",
       "    }\n",
       "\n",
       "    .dataframe tbody tr th {\n",
       "        vertical-align: top;\n",
       "    }\n",
       "\n",
       "    .dataframe thead th {\n",
       "        text-align: right;\n",
       "    }\n",
       "</style>\n",
       "<table border=\"1\" class=\"dataframe\">\n",
       "  <thead>\n",
       "    <tr style=\"text-align: right;\">\n",
       "      <th></th>\n",
       "      <th>seasonal</th>\n",
       "      <th>seasonal_periods</th>\n",
       "      <th>trend</th>\n",
       "      <th>rmse</th>\n",
       "      <th>mape</th>\n",
       "      <th>rmsle</th>\n",
       "    </tr>\n",
       "  </thead>\n",
       "  <tbody>\n",
       "    <tr>\n",
       "      <th>210</th>\n",
       "      <td>add</td>\n",
       "      <td>7</td>\n",
       "      <td>mul</td>\n",
       "      <td>inf</td>\n",
       "      <td>97010163982673782757392554496357892162994550479...</td>\n",
       "      <td>297.29</td>\n",
       "    </tr>\n",
       "    <tr>\n",
       "      <th>5118</th>\n",
       "      <td>add</td>\n",
       "      <td>7</td>\n",
       "      <td>mul</td>\n",
       "      <td>inf</td>\n",
       "      <td>93265497207557793648450733497743542996589060071...</td>\n",
       "      <td>423.74</td>\n",
       "    </tr>\n",
       "    <tr>\n",
       "      <th>8682</th>\n",
       "      <td>add</td>\n",
       "      <td>7</td>\n",
       "      <td>mul</td>\n",
       "      <td>inf</td>\n",
       "      <td>54928173686472596747990245676362329492093068576...</td>\n",
       "      <td>573.84</td>\n",
       "    </tr>\n",
       "    <tr>\n",
       "      <th>11564</th>\n",
       "      <td>add</td>\n",
       "      <td>30</td>\n",
       "      <td>mul</td>\n",
       "      <td>inf</td>\n",
       "      <td>14277416558117948540703470081245829768576221301...</td>\n",
       "      <td>257.89</td>\n",
       "    </tr>\n",
       "    <tr>\n",
       "      <th>17756</th>\n",
       "      <td>add</td>\n",
       "      <td>30</td>\n",
       "      <td>mul</td>\n",
       "      <td>inf</td>\n",
       "      <td>48819957362848878495849561722798108886508603117...</td>\n",
       "      <td>364.02</td>\n",
       "    </tr>\n",
       "    <tr>\n",
       "      <th>19374</th>\n",
       "      <td>add</td>\n",
       "      <td>7</td>\n",
       "      <td>mul</td>\n",
       "      <td>inf</td>\n",
       "      <td>37023735034058370600536786227246399079158064199...</td>\n",
       "      <td>640.44</td>\n",
       "    </tr>\n",
       "    <tr>\n",
       "      <th>21320</th>\n",
       "      <td>add</td>\n",
       "      <td>30</td>\n",
       "      <td>mul</td>\n",
       "      <td>inf</td>\n",
       "      <td>85290143807203091985090014773165373879337531631...</td>\n",
       "      <td>493.25</td>\n",
       "    </tr>\n",
       "  </tbody>\n",
       "</table>\n",
       "</div>"
      ],
      "text/plain": [
       "      seasonal  seasonal_periods trend  rmse  \\\n",
       "210        add                 7   mul   inf   \n",
       "5118       add                 7   mul   inf   \n",
       "8682       add                 7   mul   inf   \n",
       "11564      add                30   mul   inf   \n",
       "17756      add                30   mul   inf   \n",
       "19374      add                 7   mul   inf   \n",
       "21320      add                30   mul   inf   \n",
       "\n",
       "                                                    mape  rmsle  \n",
       "210   97010163982673782757392554496357892162994550479... 297.29  \n",
       "5118  93265497207557793648450733497743542996589060071... 423.74  \n",
       "8682  54928173686472596747990245676362329492093068576... 573.84  \n",
       "11564 14277416558117948540703470081245829768576221301... 257.89  \n",
       "17756 48819957362848878495849561722798108886508603117... 364.02  \n",
       "19374 37023735034058370600536786227246399079158064199... 640.44  \n",
       "21320 85290143807203091985090014773165373879337531631... 493.25  "
      ]
     },
     "execution_count": 33,
     "metadata": {},
     "output_type": "execute_result"
    }
   ],
   "source": [
    "holt[np.isinf(holt['rmse'])]"
   ]
  },
  {
   "cell_type": "code",
   "execution_count": null,
   "id": "11a71a6e",
   "metadata": {},
   "outputs": [],
   "source": []
  }
 ],
 "metadata": {
  "kernelspec": {
   "display_name": "flask_env",
   "language": "python",
   "name": "python3"
  },
  "language_info": {
   "codemirror_mode": {
    "name": "ipython",
    "version": 3
   },
   "file_extension": ".py",
   "mimetype": "text/x-python",
   "name": "python",
   "nbconvert_exporter": "python",
   "pygments_lexer": "ipython3",
   "version": "3.12.0"
  }
 },
 "nbformat": 4,
 "nbformat_minor": 5
}
